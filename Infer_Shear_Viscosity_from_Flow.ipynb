{
 "cells": [
  {
   "cell_type": "markdown",
   "metadata": {},
   "source": [
    "# Goals of this Notebook\n",
    "\n",
    "In this notebook, we want to explore topics related to performing **Bayesian inference** (in particular **Bayesian parameter estimation**) using a **Gaussian Process** (GP) surrogate.\n",
    "\n",
    "The specific example is related to the phenomenology of heavy-ion collisions.\n",
    "It was realized early in the 21st century that the harmonic flows $v_2$, which can be measured by $n$-particle correlations, can be sensitive to the transport properties of a Quark Gluon Plasma(QGP) fluid.\n",
    "More specifically, the 'elliptic flow' $v_2$ shows sensitivity to the specific shear viscosity $\\eta/s$.\n",
    "Therefore, a common practice in phenomenology is compare hydrodynamic models with a parametrized specific shear viscosity to observables measured in experiments such as the elliptic flow, to try and **infer** the specific shear viscosity of the physical QGP. "
   ]
  },
  {
   "cell_type": "markdown",
   "metadata": {},
   "source": [
    "## Bayesian Inference\n",
    "\n",
    "A statistical methodology designed to handle arbitrarily complicated problems of inference is **Bayesian Inference**. \n",
    "\n",
    "Suppose we know some information $D$, for example a set of experimental measurements. \n",
    "Now, suppose we want to make an inference about a proposition $\\theta$, for example some physical property of system which can not be directly measured. \n",
    "\n",
    "Bayes theorem can be written $$p(\\theta|D) = \\frac{ p(D|\\theta) p(\\theta) }{ p(D) },$$\n",
    "where $p(\\theta|D)$ is our \"posterior\" for the propisition $\\theta$ given that $D$ is realized, $p(D|\\theta)$ is the \"likelihood\" of observing $D$ given that the proposition $\\theta$ is realized, $p(\\theta)$ is our \"prior\" belief about $\\theta$ before observing $D$, and $p(D)$ is the \"evidence\". \n",
    "\n",
    "If we are only interested in our proposition $\\theta$, than we can use that the evidence is independent of $\\theta$ and solve instead the proportionality\n",
    "$$p(\\theta|D) \\propto p(D|\\theta) p(\\theta) .$$ \n",
    "This fact will be very useful for Bayesian parameter estimation, as the usual numerical methods to estimate the posterior will exploit it. "
   ]
  },
  {
   "cell_type": "markdown",
   "metadata": {},
   "source": [
    "# Inferring the shear viscosity given the Elliptic Flow\n",
    "\n",
    "We can use Bayes theorem to infer the specific shear viscosity of QGP given the observed data for the elliptic flow.\n",
    "\n",
    "In this case the specific shear viscosity will be represented by $\\theta$, and the observed experimental data for the elliptic flow in a particular centrality bin will be represented by $D$. "
   ]
  },
  {
   "cell_type": "markdown",
   "metadata": {},
   "source": [
    "## Defining our physics model\n",
    "\n",
    "We see that our likelihood function encodes the conditional probability of observing some value of the elliptic flow given a particular value of the specific shear viscosity. \n",
    "This requires us to choose some model which we believe is a good approximation of physics. \n",
    "In this case, we will assume that the dynamics of the collision can be modeled accurately by viscous hydrodynamics.\n",
    "\n",
    "For the purposes of this notebook, we will approximate the hydrodynamic output of the elliptic flow $v_2$ given the specific shear viscosity $\\eta/s$ using a linear model.\n",
    "\n",
    "Ordinarily we would use a hydrodynamic simulation (perhaps MUSIC https://github.com/MUSIC-fluid/MUSIC) to model the physics. We will use a linear-model in this notebook because its not computationally demanding, allowing us to focus on concepts on Bayesian inference. However, whenever we discuss our model, we should have in mind a real physics model."
   ]
  },
  {
   "cell_type": "markdown",
   "metadata": {},
   "source": [
    "### Statistical Model Error\n",
    "\n",
    "Let's add to our linear physics model statistical (uncorrelated) error on top of every prediction for the elliptic flow. \n",
    "This will be useful both for understanding how any statistical model errors enter our inference problem. \n",
    "(For example, in a real hydrodynamics simulation with a finite number of final state particles, there will be a finite statistical error on our calculated elliptic flow.)"
   ]
  },
  {
   "cell_type": "markdown",
   "metadata": {},
   "source": [
    "### Expressing the model\n",
    "Let $y$ denote the ouput $v_2$, and $\\theta$ the value of the specific shear viscosity $\\eta/s$. We can write our physics model by\n",
    "$$y = m * \\theta + b +\\epsilon,$$ \n",
    "which has a slope $m$, intercept $b$ and statistical error $\\epsilon$."
   ]
  },
  {
   "cell_type": "markdown",
   "metadata": {},
   "source": [
    "### Let's import some libraries we will be using"
   ]
  },
  {
   "cell_type": "code",
   "execution_count": 1,
   "metadata": {},
   "outputs": [],
   "source": [
    "import numpy as np #useful for math operations\n",
    "import matplotlib.pyplot as plt #plotting\n",
    "import seaborn as sns #pretty plots\n",
    "sns.set()\n",
    "\n",
    "from sklearn.gaussian_process import GaussianProcessRegressor as GPR #for using Gaussian Processes\n",
    "from sklearn.gaussian_process import kernels #same\n",
    "from sklearn.preprocessing import StandardScaler #useful for scaling data\n",
    "\n",
    "import emcee #for performing Markov Chain Monte Carlo\n",
    "import corner #for plotting the posterior"
   ]
  },
  {
   "cell_type": "markdown",
   "metadata": {},
   "source": [
    "### This function will define our physics (hydrodynamic) model"
   ]
  },
  {
   "cell_type": "code",
   "execution_count": 2,
   "metadata": {},
   "outputs": [],
   "source": [
    "#Our linear model for hydrodynamic output in some centrality bin, for example 20-30%\n",
    "\n",
    "#noise level controls statistical scatter in our physics model $\\epsilon$\n",
    "noise = 0.1 #amount of statistical scatter in our training calculations\n",
    "\n",
    "def lin_hydro_model(eta_over_s, intercept = 0.12, slope = -0.25, noise = noise):\n",
    "    \"\"\"This function will play the role of a \n",
    "    realistic event-by-event hydrodynamic model. Here it is a linear model \n",
    "    with an additional random noise error.\"\"\"\n",
    "    \n",
    "    y = intercept + slope * (eta_over_s) # the mean model prediction\n",
    "    dy = noise * y * np.random.normal() #the sampled model statistical error\n",
    "    y += dy #add the model stat. error to the model mean\n",
    "    y = np.max([0., y]) #suppose our measurement definition is positive definite\n",
    "    return y, dy\n",
    "\n",
    "lin_hydro_model = np.vectorize(lin_hydro_model)"
   ]
  },
  {
   "cell_type": "markdown",
   "metadata": {},
   "source": [
    "## Using a fast Model Emulator for slow physics models \n",
    "\n",
    "A real viscous hydrodynamic physics model could take hours to run a single event, and we may need thousands of events to construct a centrality average. Therefore, for computationally demanding models we can employ a fast surrogate (non-parametric interpolation) which can estimate the interpolation uncertainty. \n",
    "We use Gaussian Processes for this purpose in this notebook. "
   ]
  },
  {
   "cell_type": "markdown",
   "metadata": {},
   "source": [
    "Like any interpolation, we need a sampling of points in our parameter space where we know the **physics model output**. \n",
    "\n",
    "So, we will first run our physics simulation on a sampling of points that **fill our parameter space** and we will call this sample our **design points**."
   ]
  },
  {
   "cell_type": "code",
   "execution_count": 3,
   "metadata": {},
   "outputs": [
    {
     "data": {
      "image/png": "[encoded data removed]",
      "text/plain": [
       "<Figure size 432x288 with 1 Axes>"
      ]
     },
     "metadata": {
      "needs_background": "light"
     },
     "output_type": "display_data"
    }
   ],
   "source": [
    "n_design_pts = 20 # this sets the number of design points where we will run our hydro model\n",
    "eta_over_s_min = 0. # this defines a minimum value for our parameter (eta/s)\n",
    "eta_over_s_max = 4. / (4. * np.pi) # this defines a maximum value for our parameter (eta/s)\n",
    "\n",
    "#this chooses our sample to be a regular grid, which is an efficient sampling in one dimension\n",
    "#it is reshaped into a 2D array so that we can readily use it with scikit-learn\n",
    "model_X = np.linspace(eta_over_s_min, eta_over_s_max, n_design_pts).reshape(-1,1)\n",
    "\n",
    "#these are the v_2 outputs of our hydro model, assuming that the model has finite statistical error\n",
    "model_y, model_dy = lin_hydro_model(model_X)\n",
    "\n",
    "#lets plot our physics models predictions\n",
    "plt.errorbar(model_X.flatten(), model_y.flatten(), model_dy.flatten(), fmt='o', c='black')\n",
    "plt.xlabel(r'$\\eta/s$')\n",
    "plt.ylabel(r'$v_2 [ 20-30\\%]$')\n",
    "plt.title('Hydro Model Design Predictions')\n",
    "plt.tight_layout(True)\n",
    "plt.show()"
   ]
  },
  {
   "cell_type": "markdown",
   "metadata": {},
   "source": [
    "### Exercises:\n",
    "1. Does it look like a linear model produced these data? Should it?\n",
    "2. Try playing with the amount of noise (error) in these data."
   ]
  },
  {
   "cell_type": "markdown",
   "metadata": {},
   "source": [
    "### Training our Gaussian Process\n",
    "We will use a Gaussian process (https://en.wikipedia.org/wiki/Gaussian_process) to interpolate between the design points.\n",
    "\n",
    "For an intuitive feeling for how they work, play with this widget http://www.tmpl.fi/gp/.\n",
    "For more details see http://www.gaussianprocess.org/gpml/chapters/RW.pdf.\n",
    "\n",
    "A Gaussian Process is defined with some choice of a **kernel function**. \n",
    "Please see this page for a brief explanation of a few popular kernels : https://www.cs.toronto.edu/~duvenaud/cookbook/\n",
    "\n",
    "\n",
    "We tell scikit-learn the GP kernel function to use, and some guidance for the range of the hyperparameters. Then when we call the `fit()` operation, scikit-learn automatically finds the values of hyperparameters that maximize a likelihood function:\n",
    "\n",
    "$$\\log p(y|D, \\theta) \\propto -\\frac{1}{2}D^T \\Sigma^{-1}_D D - \\frac{1}{2} \\log |\\Sigma_D|,$$\n",
    "\n",
    "where $\\Sigma_D$ is the covariance matrix resulting from applying the covariance function to the **training data**. \n",
    "\n",
    "Note: The first term rewards a better fit to the training data, while the second term this likelihood function is a complexity penalty to avoid overfitting. "
   ]
  },
  {
   "cell_type": "markdown",
   "metadata": {},
   "source": [
    "### Exercises:\n",
    "1. Explain why the first term in this likelihood function rewards a GP with hyperparameters that fit the data well.\n",
    "2. Explain why the second term penalizes a GP which is 'overfit'. What does 'overfit' mean?"
   ]
  },
  {
   "cell_type": "markdown",
   "metadata": {},
   "source": [
    "### Now we will define and train a GP\n",
    "\n",
    "We will use a combination of a **Squared Exponential Kernel** and a **White Noise Kernel**."
   ]
  },
  {
   "cell_type": "code",
   "execution_count": 4,
   "metadata": {},
   "outputs": [],
   "source": [
    "#scikit-learn only accepts 2d arrays as inputs\n",
    "model_X = model_X.reshape(-1,1)\n",
    "\n",
    "#this is the 'size' of possible variation of our parameters, in this case eta/s\n",
    "ptp = max(model_X) - min(model_X)\n",
    "\n",
    "#This is our Squared Exponential Kernel\n",
    "rbf_kern = 1. * kernels.RBF(\n",
    "                      length_scale=ptp,\n",
    "                      length_scale_bounds=np.outer(ptp, (1e-2, 1e2)),\n",
    "                      )\n",
    "#This is a white noise kernel, \n",
    "#necessary because our physics model has finite statistical accuracy\n",
    "white_kern = kernels.WhiteKernel(\n",
    "                         noise_level=.1,\n",
    "                         noise_level_bounds=(1e-2, 1e1)\n",
    "                        )\n",
    "\n",
    "#our kernel is the sum of the Sq. Exponential and White Noise kernels\n",
    "my_kernel = (rbf_kern + white_kern) "
   ]
  },
  {
   "cell_type": "markdown",
   "metadata": {},
   "source": [
    "### Exercises:\n",
    "1. Why do we need a White Noise Kernel?\n",
    "2. What does the hyperparameter which controls the 'length scale' in the Squared Exponential kernel control? How does it relate to under/over-fitting?"
   ]
  },
  {
   "cell_type": "markdown",
   "metadata": {},
   "source": [
    "As with many machine learning toolkits, out-of-the-box performance is often best when we first scale our outputs. The 'Standard Scaler' (https://scikit-learn.org/stable/modules/generated/sklearn.preprocessing.StandardScaler.html) is convenient for this purpose."
   ]
  },
  {
   "cell_type": "code",
   "execution_count": 5,
   "metadata": {},
   "outputs": [],
   "source": [
    "#first scale our observables \n",
    "model_y_copy = model_y.copy()\n",
    "scaler = StandardScaler(copy=True).fit(model_y_copy)\n",
    "scaled_model_y = scaler.transform(model_y, copy=True) # the scaled model outputs"
   ]
  },
  {
   "cell_type": "markdown",
   "metadata": {},
   "source": [
    "### Training our GP on the hydro model calculations"
   ]
  },
  {
   "cell_type": "code",
   "execution_count": 6,
   "metadata": {},
   "outputs": [],
   "source": [
    "#maximizing the GP likelihood proceeds in an iterative process,\n",
    "#beginning with a random seed. \n",
    "#We want to be sure we find a global max., so we restart it several times\n",
    "nrestarts=10\n",
    "\n",
    "#define our Gaussian process, and fit it to the hydro model calculations\n",
    "my_gp = GPR(kernel=my_kernel,\n",
    "         alpha=0.01, # the nugget, to stabilize matrix inversions\n",
    "         n_restarts_optimizer=nrestarts, \n",
    "         ).fit(model_X, scaled_model_y)"
   ]
  },
  {
   "cell_type": "markdown",
   "metadata": {},
   "source": [
    "### Defining an 'emulator'\n",
    "It's useful to define a function which handles both the scaling of our observables as well as the interpolation with the GP. We call this function the **emulator**. "
   ]
  },
  {
   "cell_type": "code",
   "execution_count": 7,
   "metadata": {},
   "outputs": [],
   "source": [
    "def emu_predict(eta_over_s):\n",
    "    \"\"\"This function handles the scaling and GP interpolation together, \n",
    "    returning our prediction in the ordinary observable space\n",
    "    rather than the scaled observable space\n",
    "    This map is what we call our 'emulator'. \"\"\"\n",
    "    X = eta_over_s.reshape(-1, 1)\n",
    "    scaled_y, scaled_dy = my_gp.predict(X, return_std=True)\n",
    "    y = scaler.inverse_transform(scaled_y).reshape(len(eta_over_s))\n",
    "    dy = scaled_dy * scaler.scale_\n",
    "    return y, dy"
   ]
  },
  {
   "cell_type": "markdown",
   "metadata": {},
   "source": [
    "### Let's check how well our emulator fits the hydro physics model"
   ]
  },
  {
   "cell_type": "code",
   "execution_count": 8,
   "metadata": {},
   "outputs": [
    {
     "data": {
      "image/png": "[encoded data removed]",
      "text/plain": [
       "<Figure size 432x288 with 1 Axes>"
      ]
     },
     "metadata": {
      "needs_background": "light"
     },
     "output_type": "display_data"
    }
   ],
   "source": [
    "#make a regular grid to plot our Emulator predictions\n",
    "n_plot_pts = 100\n",
    "gp_X_plot = np.linspace(eta_over_s_min, eta_over_s_max, n_plot_pts)\n",
    "\n",
    "#get the GP Emulator's predictions of both the mean and std. deviation\n",
    "gp_y, gp_dy = emu_predict(gp_X_plot)\n",
    "\n",
    "plt.plot(gp_X_plot, gp_y, color='red', label='GP median')\n",
    "plt.fill_between(gp_X_plot, y1 = gp_y - 2.*gp_dy, y2 = gp_y + 2.*gp_dy, \n",
    "                 interpolate=True, alpha=0.7, label=r'GP 2$\\sigma$', color='orange')\n",
    "plt.fill_between(gp_X_plot, y1 = gp_y - gp_dy, y2 = gp_y + gp_dy, \n",
    "                 interpolate=True, alpha=0.7, label=r'GP 1$\\sigma$', color='blue')\n",
    "plt.errorbar(model_X.flatten(), model_y.flatten(), model_dy.flatten(), fmt='o', c='black', label='Hydro Model')\n",
    "\n",
    "plt.xlabel(r'$\\eta/s$')\n",
    "plt.ylabel(r'$v_2 [ 20-30\\%]$')\n",
    "plt.title('GP Emulator and Model Training Points')\n",
    "plt.legend()\n",
    "plt.tight_layout(True)\n",
    "plt.savefig('GP.png',dpi=400)\n",
    "plt.show()"
   ]
  },
  {
   "cell_type": "markdown",
   "metadata": {},
   "source": [
    "### Exercises:\n",
    "\n",
    "1. Examine how increasing or decreasing the number of design points can effect the mean and uncertainty of the GP emulator prediction. Does it fit your expectation?\n",
    "\n",
    "2. Examine how increasing or decreasing the model statistical error can effect the mean and uncertainty of the GP emulator prediction. Does it fit your expectation?\n",
    "\n",
    "1. Examine how changing the density of design points can effect the mean and uncertainty of the GP emulator prediction(Try a design which has regions which are sparsely populated by design points). Does it fit your expectation?"
   ]
  },
  {
   "cell_type": "markdown",
   "metadata": {},
   "source": [
    "### Certainly we expect our emulator to fit well the points on which it was trained...\n",
    "Our definition of the GP likelihood function is designed to do just that!\n",
    "\n",
    "Ultimately, we want to know if our emulator can be trusted for points in parameter space in which it was **not trained**. \n",
    "\n",
    "So, let's perform some validations of our GP emulator, using a **novel testing set** of model calculations."
   ]
  },
  {
   "cell_type": "code",
   "execution_count": 9,
   "metadata": {},
   "outputs": [],
   "source": [
    "#this defines a new set of points in parameter space where we will run our physics model\n",
    "n_test_pts = 15\n",
    "model_X_test = np.random.uniform(eta_over_s_min, eta_over_s_max, n_test_pts).reshape(-1,1)\n",
    "#get the hydro model predictions for these new points\n",
    "model_y_test, model_dy_test = lin_hydro_model(model_X_test)\n",
    "\n",
    "#Now use the emulator trained only on the **original design points** to predict\n",
    "#outputs on the **new testing set**\n",
    "gp_y_test, gp_dy_test = emu_predict(model_X_test)"
   ]
  },
  {
   "cell_type": "code",
   "execution_count": 10,
   "metadata": {},
   "outputs": [
    {
     "data": {
      "image/png": "[encoded data removed]",
      "text/plain": [
       "<Figure size 432x288 with 1 Axes>"
      ]
     },
     "metadata": {
      "needs_background": "light"
     },
     "output_type": "display_data"
    }
   ],
   "source": [
    "#Plot the emulator prediction vs the hydro model prediction\n",
    "plt.xlabel(r'Hydro model $v_2$ prediction')\n",
    "plt.ylabel(r'Emulator $v_2$ prediction')\n",
    "plt.plot(model_y_test, model_y_test, color='r', label='perfect', ls=':', lw=2)\n",
    "plt.scatter(model_y_test, gp_y_test)\n",
    "plt.legend()\n",
    "plt.tight_layout(True)\n",
    "plt.show()"
   ]
  },
  {
   "cell_type": "markdown",
   "metadata": {},
   "source": [
    "### How does the performance look? \n",
    "There are stricter tests we can use to check if our surrogate prediction is biased.\n",
    "\n",
    "If $\\hat{y}(\\theta)$ is our emulator prediction for the parameters $\\theta$, and $y(\\theta)$ is our hydro model prediction, we can define the **residual** $\\hat{y}(\\theta) - y(\\theta)$.\n",
    "\n",
    "Let's plot the residual as a function of $\\eta/s$:"
   ]
  },
  {
   "cell_type": "code",
   "execution_count": 11,
   "metadata": {},
   "outputs": [
    {
     "data": {
      "image/png": "[encoded data removed]",
      "text/plain": [
       "<Figure size 432x288 with 1 Axes>"
      ]
     },
     "metadata": {
      "needs_background": "light"
     },
     "output_type": "display_data"
    }
   ],
   "source": [
    "model_y_test = model_y_test.reshape(n_test_pts)\n",
    "res = gp_y_test - model_y_test # calculate the residuals \n",
    "plt.scatter(model_X_test, res)\n",
    "plt.xlabel(r'$\\eta/s$')\n",
    "plt.ylabel(r'$\\hat{v}_2 - v_2$')\n",
    "plt.tight_layout(True)\n",
    "plt.show()"
   ]
  },
  {
   "cell_type": "markdown",
   "metadata": {},
   "source": [
    "### Does the prediction look biased?\n",
    "\n",
    "By inspection, it doesn't look like our emulator has signficant bias for any value of $\\eta/s$. \n",
    "They are even more illuminating tests one can make, for example Quantile-Quantile plots (https://en.wikipedia.org/wiki/Q–Q_plot). You can explore this on your own."
   ]
  },
  {
   "cell_type": "markdown",
   "metadata": {},
   "source": [
    "# Performing Bayesian Inference\n",
    "Now, we have a fast and accurate surrogate that we can trust to compare to data anywhere in the parameter space \n",
    "\n",
    "So we want to use our emulator to perform **Bayesian inference**.\n",
    "\n",
    "Recall, that our **posterior** $p(\\theta|D)$ of our parameters $\\theta$ given the observed experimental data $D$ is the product of our **prior** belief about the parameters $p(\\theta)$ and the **likelihood** $p(D|\\theta)$ of observing those experimental data given the true value of the parameters is $\\theta$. This is Bayes Theorem:\n",
    "\n",
    "$$p(\\theta|D) \\propto p(D|\\theta)p(\\theta).$$\n",
    "\n",
    "So, before using experimental data to update our belief about $\\eta/s$, we need to define our prior belief about $\\eta/s$."
   ]
  },
  {
   "cell_type": "markdown",
   "metadata": {},
   "source": [
    "### Choosing our Priors"
   ]
  },
  {
   "cell_type": "markdown",
   "metadata": {},
   "source": [
    "We will define two different priors, so we can examine the effect that our prior has on our posterior.\n",
    "\n",
    "One prior will be flat between two limits, and the other will be informed by our belief, before seeing our $v_2$ data, is that the shear viscosity is more likely to be a certain value within our limits."
   ]
  },
  {
   "cell_type": "code",
   "execution_count": 12,
   "metadata": {},
   "outputs": [],
   "source": [
    "#define two different priors, one more informed than the other\n",
    "theta_min = eta_over_s_min\n",
    "theta_max = eta_over_s_max\n",
    "\n",
    "#a flat prior\n",
    "def log_flat_prior(theta):\n",
    "    \"\"\"Flat prior on value between limits\"\"\"\n",
    "    if (theta_min < theta) and (theta < theta_max):\n",
    "        return 0. # log(1)\n",
    "    else:\n",
    "        return -np.inf  # log(0)\n",
    "log_flat_prior = np.vectorize(log_flat_prior)\n",
    "    \n",
    "#a peaked prior\n",
    "prior_peak = 2. / (4. * np.pi)  # the value of theta we belief most likely, before seeing data\n",
    "prior_width = 1. / (10. * np.pi) #our uncertainty about this value, before seeing the data\n",
    "def log_peaked_prior(theta):\n",
    "    \"\"\"Peaked (Gaussian) prior on value between limits\"\"\"\n",
    "    if (theta_min < theta) and (theta < theta_max):\n",
    "        return -0.5 * (theta - prior_peak)**2. / prior_width**2. \n",
    "    else:\n",
    "        return -np.inf  # log(0)\n",
    "log_peaked_prior = np.vectorize(log_peaked_prior)"
   ]
  },
  {
   "cell_type": "code",
   "execution_count": 13,
   "metadata": {},
   "outputs": [
    {
     "data": {
      "image/png": "[encoded data removed]",
      "text/plain": [
       "<Figure size 432x288 with 1 Axes>"
      ]
     },
     "metadata": {
      "needs_background": "light"
     },
     "output_type": "display_data"
    }
   ],
   "source": [
    "#lets plot our two priors by sampling them, and plotting their histograms\n",
    "n_samples_prior = int(1e6)\n",
    "samples_flat_prior = np.random.uniform(theta_min, theta_max, n_samples_prior) \n",
    "samples_peaked_prior =  np.random.normal( prior_peak, prior_width, n_samples_prior) \n",
    "plt.hist(samples_flat_prior, label='Flat prior', alpha=0.5, density=True, color='blue', bins=50)\n",
    "plt.hist(samples_peaked_prior, label='Peaked prior', alpha=0.5, density=True, color='red', bins=50)\n",
    "plt.xlim([theta_min, theta_max])\n",
    "plt.xlabel(r'$\\eta/s$')\n",
    "plt.ylabel(r'$p(\\eta/s)$')\n",
    "plt.yticks([])\n",
    "plt.legend()\n",
    "plt.tight_layout(True)\n",
    "plt.show()"
   ]
  },
  {
   "cell_type": "markdown",
   "metadata": {},
   "source": [
    "### Defining our Likelihood\n",
    "To compare our model predictions with experiment, we need to define our likelihood function.\n",
    "The likelihood is a model for the conditional probability of observing the data given some true value of the parameters. Specifically,\n",
    "the probability of observing some experimental value for $v_2$ given some value of $\\eta/s$.\n",
    "\n",
    "A commonplace assumption is to assume that the experimental errors follow a multivariate Gaussian distribution. This assumption is also the distribution which maximizes the information entropy subject to the constraints being normalizable, having a known mean, and a known variance...\n",
    "This can be derived using the method of Lagrange multipliers. For details see (https://github.com/furnstahl/Physics-8805/blob/master/topics/maximum-entropy/MaxEnt.ipynb). "
   ]
  },
  {
   "cell_type": "code",
   "execution_count": 14,
   "metadata": {},
   "outputs": [],
   "source": [
    "def log_likelihood(theta, y_exp, dy_exp):\n",
    "    #use our GP emulator to approximate the hydro model\n",
    "    y_pred, dy_pred = emu_predict(theta) # emulation prediction and uncertainty\n",
    "    dy_tot = np.sqrt( dy_pred**2. + dy_exp**2. ) #total uncertainty, emulation and exp.\n",
    "    return -0.5 * np.sum( (y_pred - y_exp)**2 / dy_tot**2 )"
   ]
  },
  {
   "cell_type": "markdown",
   "metadata": {},
   "source": [
    "### Exercises:\n",
    "1. Why does the total uncertainty `dy_tot` in the likelihood function have this expression? What should be the total uncertainty, when we have experimental uncertainty and interpolation uncertainties which are independent?\n",
    "2. How would this expression generalize to a vector of outputs, rather than a scalar output?"
   ]
  },
  {
   "cell_type": "markdown",
   "metadata": {},
   "source": [
    "### Defining our Posterior \n",
    "The posterior is the product of the prior and likelihood function. \n",
    "\n",
    "It follows that the logarithm of the posterior is the sum of the logs of the prior and likelihood."
   ]
  },
  {
   "cell_type": "code",
   "execution_count": 15,
   "metadata": {},
   "outputs": [],
   "source": [
    "#posterior using flat prior\n",
    "def log_posterior_flat_prior(theta, y_exp, dy_exp):\n",
    "    '''Log posterior for data X given parameter array theta'''\n",
    "    return log_flat_prior(theta) + log_likelihood(theta, y_exp, dy_exp)\n",
    "\n",
    "#posterior using peaked prior\n",
    "def log_posterior_peaked_prior(theta, y_exp, dy_exp):\n",
    "    '''Log posterior for data X given parameter array theta'''\n",
    "    return log_peaked_prior(theta) + log_likelihood(theta, y_exp, dy_exp)"
   ]
  },
  {
   "cell_type": "markdown",
   "metadata": {},
   "source": [
    "### Inferring the value of $\\eta/s$ using experimental data\n",
    "\n",
    "Suppose that an experiment measures $v_2[20-30\\%]$, and is reported by a mean value and total uncertainty..."
   ]
  },
  {
   "cell_type": "code",
   "execution_count": 16,
   "metadata": {},
   "outputs": [],
   "source": [
    "exp_rel_uncertainty = 0.1 # experimental relative uncertainty\n",
    "y_exp = 0.09 #v_2 experimental mean\n",
    "dy_exp = y_exp * exp_rel_uncertainty #v_2 experimental uncertainty"
   ]
  },
  {
   "cell_type": "markdown",
   "metadata": {},
   "source": [
    "Although our current problem is much-simplified by the use of a linear model, in general we will have no analytic expression for our likelihood function. In this case, one needs a set of numerical tools which can approximate the likelihood function. \n",
    "\n",
    "In addition, for many problems of interest our parameter space can be highly dimensional, so these methods need to work well for high-dimensional problems.\n",
    "\n",
    "We solve both of these problems by employing Markov Chain Monte Carlo sampling (http://www.columbia.edu/~mh2078/MachineLearningORFE/MCMC_Bayes.pdf)."
   ]
  },
  {
   "cell_type": "markdown",
   "metadata": {},
   "source": [
    "Specifically, we will use a python implementation called *Emcee* (https://emcee.readthedocs.io/en/stable/), which will work well for our purposes."
   ]
  },
  {
   "cell_type": "code",
   "execution_count": 17,
   "metadata": {},
   "outputs": [
    {
     "name": "stdout",
     "output_type": "stream",
     "text": [
      "Sampling Posterior with Flat Prior...\n",
      "MCMC sampling using emcee (affine-invariant ensamble sampler) with 20 walkers\n",
      "Mean acceptance fraction: 0.806 (in total 40000 steps)\n",
      "Sampling Posterior with Peaked Prior...\n",
      "MCMC sampling using emcee (affine-invariant ensamble sampler) with 20 walkers\n",
      "Mean acceptance fraction: 0.805 (in total 40000 steps)\n"
     ]
    }
   ],
   "source": [
    "#this are some general settings for the MCMC\n",
    "ndim = 1  # number of parameters in the model\n",
    "nwalkers = 20*ndim  # number of MCMC walkers\n",
    "nburn = 1000  # \"burn-in\" period to let chains stabilize\n",
    "nsteps = 2000  # number of MCMC steps to take after the burn-in period finished\n",
    "\n",
    "# we'll start at random locations within the prior volume\n",
    "starting_guesses = theta_min + \\\n",
    "                   (theta_max - theta_min) * np.random.rand(nwalkers,ndim)\n",
    "\n",
    "####Sampling the posterior with a flat prior####\n",
    "print(\"Sampling Posterior with Flat Prior...\")\n",
    "print(\"MCMC sampling using emcee (affine-invariant ensamble sampler) with {0} walkers\".format(nwalkers))\n",
    "sampler_flat_prior = emcee.EnsembleSampler(nwalkers, ndim, log_posterior_flat_prior, args=[y_exp, dy_exp])\n",
    "# \"burn-in\" period; save final positions and then reset\n",
    "pos, prob, state = sampler_flat_prior.run_mcmc(starting_guesses, nburn)\n",
    "sampler_flat_prior.reset()\n",
    "# production sampling period\n",
    "sampler_flat_prior.run_mcmc(pos, nsteps)\n",
    "print(\"Mean acceptance fraction: {0:.3f} (in total {1} steps)\"\n",
    "                .format(np.mean(sampler_flat_prior.acceptance_fraction),nwalkers*nsteps))\n",
    "# discard burn-in points and flatten the walkers; the shape of samples is (nwalkers*nsteps, ndim)\n",
    "samples_flat_prior = sampler_flat_prior.chain.reshape((-1, ndim))\n",
    "\n",
    "####Sampling the posterior with a peaked prior####\n",
    "print(\"Sampling Posterior with Peaked Prior...\")\n",
    "print(\"MCMC sampling using emcee (affine-invariant ensamble sampler) with {0} walkers\".format(nwalkers))\n",
    "sampler_peaked_prior = emcee.EnsembleSampler(nwalkers, ndim, log_posterior_peaked_prior, args=[y_exp, dy_exp])\n",
    "# \"burn-in\" period; save final positions and then reset\n",
    "pos, prob, state = sampler_peaked_prior.run_mcmc(starting_guesses, nburn)\n",
    "sampler_peaked_prior.reset()\n",
    "# production sampling period\n",
    "sampler_peaked_prior.run_mcmc(pos, nsteps)\n",
    "print(\"Mean acceptance fraction: {0:.3f} (in total {1} steps)\"\n",
    "                .format(np.mean(sampler_peaked_prior.acceptance_fraction),nwalkers*nsteps))\n",
    "# discard burn-in points and flatten the walkers; the shape of samples is (nwalkers*nsteps, ndim)\n",
    "samples_peaked_prior = sampler_peaked_prior.chain.reshape((-1, ndim))"
   ]
  },
  {
   "cell_type": "markdown",
   "metadata": {},
   "source": [
    "### Plotting our Posteriors\n",
    "\n",
    "We can plot the samples of our posterior as histograms."
   ]
  },
  {
   "cell_type": "code",
   "execution_count": 18,
   "metadata": {},
   "outputs": [
    {
     "data": {
      "image/png": "[encoded data removed]",
      "text/plain": [
       "<Figure size 432x288 with 1 Axes>"
      ]
     },
     "metadata": {
      "needs_background": "light"
     },
     "output_type": "display_data"
    }
   ],
   "source": [
    "plt.hist(samples_flat_prior, bins=20, density=True, alpha=0.6, \n",
    "         edgecolor='blue', label='Posterior w/ Flat Prior')\n",
    "plt.hist(samples_peaked_prior, bins=20, density=True, alpha=0.6, \n",
    "         edgecolor='red', label='Posterior w/ Peaked Prior')\n",
    "plt.xlabel(r'$\\eta/s$')\n",
    "plt.ylabel(r'$p(\\eta/s | v_2)$')\n",
    "plt.yticks([])\n",
    "plt.legend()\n",
    "plt.tight_layout(True)\n",
    "plt.show()"
   ]
  },
  {
   "cell_type": "markdown",
   "metadata": {},
   "source": [
    "### Exercises\n",
    "\n",
    "1. What do you notice is different about the two posteriors above, their median, their uncertainties, etc?\n",
    "2. Try reducing the experimental error on our measurement. What do you expect to happen, and what happens? How does it depend on our emulation (interpolation) uncertainty?\n",
    "3. Try playing with the parameters which defined the 'peaked' prior (e.g. reducing/increasing it's width). What happens?\n",
    "4. In the case where we use the flat prior, what is the relation between the posterior and the likelihood function?"
   ]
  },
  {
   "cell_type": "markdown",
   "metadata": {},
   "source": [
    "### Their are many useful libraries for plotting posteriors...\n",
    "The corner library provides an easy to use implementation. This is especially helpful for doing\n",
    "parameter estimation in more than one dimension."
   ]
  },
  {
   "cell_type": "code",
   "execution_count": 19,
   "metadata": {},
   "outputs": [
    {
     "data": {
      "image/png": "[encoded data removed]",
      "text/plain": [
       "<Figure size 244.8x244.8 with 1 Axes>"
      ]
     },
     "metadata": {
      "needs_background": "light"
     },
     "output_type": "display_data"
    }
   ],
   "source": [
    "# make a corner plot with the posterior distribution\n",
    "fig = corner.corner(samples_flat_prior, labels=[\"$\\eta/s$\"],\n",
    "                    quantiles=[0.05, 0.5, 0.95], #what do these limits control?\n",
    "                    show_titles=True, title_kwargs={\"fontsize\": 12})\n",
    "plt.tight_layout(True)\n",
    "plt.show()"
   ]
  },
  {
   "cell_type": "markdown",
   "metadata": {},
   "source": [
    "# We're finished!\n",
    "\n",
    "Now you can try applying some of these ideas to your own research. "
   ]
  },
  {
   "cell_type": "code",
   "execution_count": null,
   "metadata": {},
   "outputs": [],
   "source": []
  }
 ],
 "metadata": {
  "kernelspec": {
   "display_name": "Python 3",
   "language": "python",
   "name": "python3"
  },
  "language_info": {
   "codemirror_mode": {
    "name": "ipython",
    "version": 3
   },
   "file_extension": ".py",
   "mimetype": "text/x-python",
   "name": "python",
   "nbconvert_exporter": "python",
   "pygments_lexer": "ipython3",
   "version": "3.6.8"
  }
 },
 "nbformat": 4,
 "nbformat_minor": 2
}
